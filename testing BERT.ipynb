{
 "cells": [
  {
   "cell_type": "code",
   "execution_count": 1,
   "id": "440f4765",
   "metadata": {},
   "outputs": [
    {
     "name": "stderr",
     "output_type": "stream",
     "text": [
      "Some weights of the model checkpoint at C:\\Users\\HP/.cache\\torch\\sentence_transformers\\sbert.net_models_bert-base-nli-mean-tokens\\0_BERT were not used when initializing BertModel: ['classifier.bias', 'classifier.weight']\n",
      "- This IS expected if you are initializing BertModel from the checkpoint of a model trained on another task or with another architecture (e.g. initializing a BertForSequenceClassification model from a BertForPreTraining model).\n",
      "- This IS NOT expected if you are initializing BertModel from the checkpoint of a model that you expect to be exactly identical (initializing a BertForSequenceClassification model from a BertForSequenceClassification model).\n"
     ]
    }
   ],
   "source": [
    "from sentence_transformers import SentenceTransformer\n",
    "model = SentenceTransformer('bert-base-nli-mean-tokens')"
   ]
  },
  {
   "cell_type": "code",
   "execution_count": 2,
   "id": "fcdc7c30",
   "metadata": {},
   "outputs": [],
   "source": [
    "from nltk.tokenize import word_tokenize\n",
    "from nltk.tokenize import sent_tokenize\n",
    "import pandas as pd\n",
    "import numpy as np\n",
    "from sklearn.metrics.pairwise import cosine_similarity\n",
    "import numpy as np"
   ]
  },
  {
   "cell_type": "code",
   "execution_count": 3,
   "id": "3c4b91fc",
   "metadata": {},
   "outputs": [],
   "source": [
    "corpus=[\"I'd like an apple juice\",\n",
    "                            \"An apple a day keeps the doctor away\",\n",
    "                             \"Eat apple every day\",\n",
    "                             \"We buy apples every week\",\n",
    "                             \"We use machine learning for text classification\",\n",
    "                             \"Text classification is subfield of machine learning\"]\n",
    "\n"
   ]
  },
  {
   "cell_type": "code",
   "execution_count": 4,
   "id": "ba4e29ab",
   "metadata": {},
   "outputs": [],
   "source": [
    "embeddings = model.encode(corpus)"
   ]
  },
  {
   "cell_type": "code",
   "execution_count": 5,
   "id": "7887e7af",
   "metadata": {},
   "outputs": [
    {
     "data": {
      "text/plain": [
       "(6, 768)"
      ]
     },
     "execution_count": 5,
     "metadata": {},
     "output_type": "execute_result"
    }
   ],
   "source": [
    "embeddings.shape"
   ]
  },
  {
   "cell_type": "code",
   "execution_count": 6,
   "id": "c39e30d6",
   "metadata": {},
   "outputs": [
    {
     "name": "stdout",
     "output_type": "stream",
     "text": [
      "[[0.9999998  0.49035358 0.6170854  0.49801618 0.33099023 0.2655072 ]\n",
      " [0.49035358 0.99999994 0.6176969  0.5870243  0.23409888 0.18803114]\n",
      " [0.6170854  0.6176969  1.0000002  0.8734125  0.20606458 0.14495446]\n",
      " [0.49801618 0.5870243  0.8734125  1.0000002  0.22751006 0.16931042]\n",
      " [0.33099023 0.23409888 0.20606458 0.22751006 0.9999997  0.93407905]\n",
      " [0.2655072  0.18803114 0.14495446 0.16931042 0.93407905 1.        ]]\n"
     ]
    }
   ],
   "source": [
    "print(cosine_similarity(embeddings,embeddings))"
   ]
  },
  {
   "cell_type": "code",
   "execution_count": 18,
   "id": "c9e591ab",
   "metadata": {},
   "outputs": [],
   "source": [
    "sim=np.array(cosine_similarity(embeddings,embeddings))\n"
   ]
  },
  {
   "cell_type": "code",
   "execution_count": 11,
   "id": "37e3dea3",
   "metadata": {},
   "outputs": [],
   "source": [
    "pairwise_similarities=cosine_similarity(embeddings)"
   ]
  },
  {
   "cell_type": "code",
   "execution_count": 20,
   "id": "eaae85c3",
   "metadata": {},
   "outputs": [
    {
     "name": "stdout",
     "output_type": "stream",
     "text": [
      "[[0.9999998  0.49035358 0.6170854  0.49801618 0.33099023 0.2655072 ]\n",
      " [0.49035358 0.99999994 0.6176969  0.5870243  0.23409888 0.18803114]\n",
      " [0.6170854  0.6176969  1.0000002  0.8734125  0.20606458 0.14495446]\n",
      " [0.49801618 0.5870243  0.8734125  1.0000002  0.22751006 0.16931042]\n",
      " [0.33099023 0.23409888 0.20606458 0.22751006 0.9999997  0.93407905]\n",
      " [0.2655072  0.18803114 0.14495446 0.16931042 0.93407905 1.        ]]\n"
     ]
    }
   ],
   "source": [
    "print(pairwise_similarities)"
   ]
  },
  {
   "cell_type": "code",
   "execution_count": 13,
   "id": "233fcfbc",
   "metadata": {},
   "outputs": [],
   "source": [
    "max_sim=[]\n",
    "\n",
    "for i in range(len(corpus)):\n",
    "    similar_ix=np.argsort(sim[i])[::-1]\n",
    "    max=sim[i][similar_ix[0]]\n",
    "    max_sim.append(max)\n",
    "    "
   ]
  },
  {
   "cell_type": "code",
   "execution_count": 14,
   "id": "1663b45e",
   "metadata": {},
   "outputs": [
    {
     "data": {
      "text/plain": [
       "[0.9999998, 0.99999994, 1.0000002, 1.0000002, 0.9999997, 1.0]"
      ]
     },
     "execution_count": 14,
     "metadata": {},
     "output_type": "execute_result"
    }
   ],
   "source": [
    "max_sim"
   ]
  },
  {
   "cell_type": "code",
   "execution_count": 15,
   "id": "44f63be2",
   "metadata": {},
   "outputs": [],
   "source": [
    "total_sim=np.sum(max_sim,dtype=np.float32)\n"
   ]
  },
  {
   "cell_type": "code",
   "execution_count": 17,
   "id": "9f41fc50",
   "metadata": {},
   "outputs": [
    {
     "name": "stdout",
     "output_type": "stream",
     "text": [
      "Final Similarity: 0.9999999205271403\n",
      "Similarity % =  99.99999205271403\n"
     ]
    }
   ],
   "source": [
    "print(\"Final Similarity:\", total_sim/len(corpus))\n",
    "print (\"Similarity % = \", 100*total_sim/len(corpus))"
   ]
  },
  {
   "cell_type": "code",
   "execution_count": null,
   "id": "6cbce7b4",
   "metadata": {},
   "outputs": [],
   "source": []
  }
 ],
 "metadata": {
  "kernelspec": {
   "display_name": "Python 3",
   "language": "python",
   "name": "python3"
  },
  "language_info": {
   "codemirror_mode": {
    "name": "ipython",
    "version": 3
   },
   "file_extension": ".py",
   "mimetype": "text/x-python",
   "name": "python",
   "nbconvert_exporter": "python",
   "pygments_lexer": "ipython3",
   "version": "3.7.10"
  }
 },
 "nbformat": 4,
 "nbformat_minor": 5
}
