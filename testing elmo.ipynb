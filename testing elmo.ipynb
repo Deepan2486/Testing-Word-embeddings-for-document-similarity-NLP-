{
 "cells": [
  {
   "cell_type": "code",
   "execution_count": 1,
   "id": "c6645b73",
   "metadata": {},
   "outputs": [],
   "source": [
    "from sklearn.metrics.pairwise import cosine_similarity\n",
    " \n",
    "import tensorflow_hub as hub\n",
    "import tensorflow as tf\n",
    " \n",
    "elmo = hub.Module(\"https://tfhub.dev/google/elmo/2\", trainable=True)\n",
    " \n",
    " "
   ]
  },
  {
   "cell_type": "code",
   "execution_count": 7,
   "id": "61e90a04",
   "metadata": {},
   "outputs": [],
   "source": [
    "import numpy as np"
   ]
  },
  {
   "cell_type": "code",
   "execution_count": 2,
   "id": "54ebb6ba",
   "metadata": {},
   "outputs": [],
   "source": [
    "def elmo_vectors(x):\n",
    "   \n",
    "  embeddings=elmo(x, signature=\"default\", as_dict=True)[\"elmo\"]\n",
    "  \n",
    "  with tf.Session() as sess:\n",
    "    sess.run(tf.global_variables_initializer())\n",
    "    sess.run(tf.tables_initializer())\n",
    "    # return average of ELMo features\n",
    "    return sess.run(tf.reduce_mean(embeddings,1))"
   ]
  },
  {
   "cell_type": "code",
   "execution_count": 3,
   "id": "7be5aca7",
   "metadata": {},
   "outputs": [],
   "source": [
    "corpus=[\"I'd like an apple juice\",\n",
    "                            \"An apple a day keeps the doctor away\",\n",
    "                             \"Eat apple every day\",\n",
    "                             \"We buy apples every week\",\n",
    "                             \"We use machine learning for text classification\",\n",
    "                             \"Text classification is subfield of machine learning\"]\n"
   ]
  },
  {
   "cell_type": "code",
   "execution_count": 4,
   "id": "e8a56424",
   "metadata": {},
   "outputs": [
    {
     "name": "stdout",
     "output_type": "stream",
     "text": [
      "6\n",
      "I'd like an apple juice\n",
      "INFO:tensorflow:Saver not created because there are no variables in the graph to restore\n"
     ]
    },
    {
     "name": "stderr",
     "output_type": "stream",
     "text": [
      "INFO:tensorflow:Saver not created because there are no variables in the graph to restore\n"
     ]
    },
    {
     "name": "stdout",
     "output_type": "stream",
     "text": [
      "An apple a day keeps the doctor away\n",
      "INFO:tensorflow:Saver not created because there are no variables in the graph to restore\n"
     ]
    },
    {
     "name": "stderr",
     "output_type": "stream",
     "text": [
      "INFO:tensorflow:Saver not created because there are no variables in the graph to restore\n"
     ]
    },
    {
     "name": "stdout",
     "output_type": "stream",
     "text": [
      "Eat apple every day\n",
      "INFO:tensorflow:Saver not created because there are no variables in the graph to restore\n"
     ]
    },
    {
     "name": "stderr",
     "output_type": "stream",
     "text": [
      "INFO:tensorflow:Saver not created because there are no variables in the graph to restore\n"
     ]
    },
    {
     "name": "stdout",
     "output_type": "stream",
     "text": [
      "We buy apples every week\n",
      "INFO:tensorflow:Saver not created because there are no variables in the graph to restore\n"
     ]
    },
    {
     "name": "stderr",
     "output_type": "stream",
     "text": [
      "INFO:tensorflow:Saver not created because there are no variables in the graph to restore\n"
     ]
    },
    {
     "name": "stdout",
     "output_type": "stream",
     "text": [
      "We use machine learning for text classification\n",
      "INFO:tensorflow:Saver not created because there are no variables in the graph to restore\n"
     ]
    },
    {
     "name": "stderr",
     "output_type": "stream",
     "text": [
      "INFO:tensorflow:Saver not created because there are no variables in the graph to restore\n"
     ]
    },
    {
     "name": "stdout",
     "output_type": "stream",
     "text": [
      "Text classification is subfield of machine learning\n",
      "INFO:tensorflow:Saver not created because there are no variables in the graph to restore\n"
     ]
    },
    {
     "name": "stderr",
     "output_type": "stream",
     "text": [
      "INFO:tensorflow:Saver not created because there are no variables in the graph to restore\n"
     ]
    }
   ],
   "source": [
    "elmo_embeddings=[]\n",
    "print (len(corpus))\n",
    "for i in range(len(corpus)):\n",
    "    print (corpus[i])\n",
    "    elmo_embeddings.append(elmo_vectors([corpus[i]])[0])\n",
    "   \n"
   ]
  },
  {
   "cell_type": "code",
   "execution_count": 5,
   "id": "c884acf1",
   "metadata": {},
   "outputs": [
    {
     "name": "stdout",
     "output_type": "stream",
     "text": [
      "[array([ 0.02739543, -0.10040519,  0.12195778, ..., -0.06023914,\n",
      "        0.19663575,  0.38090163], dtype=float32), array([ 0.08833799, -0.21392673, -0.09389038, ..., -0.04924488,\n",
      "        0.08270943,  0.25595036], dtype=float32), array([ 0.45237523, -0.00928466,  0.5245861 , ...,  0.00988377,\n",
      "       -0.03330071,  0.25460476], dtype=float32), array([-0.14745471, -0.25623208,  0.20231596, ..., -0.11443622,\n",
      "       -0.03759009,  0.18829295], dtype=float32), array([-0.4455993 , -0.14292821, -0.3249763 , ...,  0.01917106,\n",
      "       -0.29726115, -0.02022681], dtype=float32), array([-0.25027984,  0.09800237, -0.10265853, ..., -0.22239093,\n",
      "        0.2981895 ,  0.00978716], dtype=float32)]\n",
      "[[1.         0.60986406 0.57428706 0.5386384  0.3963817  0.35737064]\n",
      " [0.60986406 1.         0.6036071  0.58240044 0.3964879  0.39825177]\n",
      " [0.57428706 0.6036071  0.9999997  0.7760986  0.38584024 0.33461636]\n",
      " [0.5386384  0.58240044 0.7760986  0.9999997  0.49227896 0.35490626]\n",
      " [0.3963817  0.3964879  0.38584024 0.49227896 0.9999998  0.73076516]\n",
      " [0.35737064 0.39825177 0.33461636 0.35490626 0.73076516 1.0000002 ]]\n"
     ]
    }
   ],
   "source": [
    "print ( elmo_embeddings)\n",
    "print(cosine_similarity(elmo_embeddings, elmo_embeddings))"
   ]
  },
  {
   "cell_type": "code",
   "execution_count": 8,
   "id": "52865890",
   "metadata": {},
   "outputs": [],
   "source": [
    "sim=np.array(cosine_similarity(elmo_embeddings, elmo_embeddings))\n"
   ]
  },
  {
   "cell_type": "code",
   "execution_count": 14,
   "id": "eaf69a07",
   "metadata": {},
   "outputs": [],
   "source": [
    "pairwise_similarities=cosine_similarity(elmo_embeddings)"
   ]
  },
  {
   "cell_type": "code",
   "execution_count": 16,
   "id": "ac7b1509",
   "metadata": {},
   "outputs": [
    {
     "name": "stdout",
     "output_type": "stream",
     "text": [
      "[[1.         0.60986406 0.57428706 0.5386384  0.3963817  0.35737064]\n",
      " [0.60986406 1.         0.6036071  0.58240044 0.3964879  0.39825177]\n",
      " [0.57428706 0.6036071  0.9999997  0.7760986  0.38584024 0.33461636]\n",
      " [0.5386384  0.58240044 0.7760986  0.9999997  0.49227896 0.35490626]\n",
      " [0.3963817  0.3964879  0.38584024 0.49227896 0.9999998  0.73076516]\n",
      " [0.35737064 0.39825177 0.33461636 0.35490626 0.73076516 1.0000002 ]]\n"
     ]
    }
   ],
   "source": [
    "print(pairwise_similarities)"
   ]
  },
  {
   "cell_type": "code",
   "execution_count": 18,
   "id": "38357cc8",
   "metadata": {},
   "outputs": [],
   "source": [
    "max_sim=[]\n",
    "\n",
    "for i in range(len(corpus)):\n",
    "    similar_ix=np.argsort(sim[i])[::-1]\n",
    "    max=sim[i][similar_ix[0]]\n",
    "    max_sim.append(max)\n",
    "    "
   ]
  },
  {
   "cell_type": "code",
   "execution_count": 19,
   "id": "4e949fa7",
   "metadata": {},
   "outputs": [
    {
     "data": {
      "text/plain": [
       "[1.0, 1.0, 0.9999997, 0.9999997, 0.9999998, 1.0000002]"
      ]
     },
     "execution_count": 19,
     "metadata": {},
     "output_type": "execute_result"
    }
   ],
   "source": [
    "max_sim"
   ]
  },
  {
   "cell_type": "code",
   "execution_count": 20,
   "id": "cbb1c89a",
   "metadata": {},
   "outputs": [],
   "source": [
    "total_sim=np.sum(max_sim,dtype=np.float32)"
   ]
  },
  {
   "cell_type": "code",
   "execution_count": 21,
   "id": "749c5326",
   "metadata": {},
   "outputs": [
    {
     "name": "stdout",
     "output_type": "stream",
     "text": [
      "Final Similarity: 1.0\n",
      "Similarity % =  100.0\n"
     ]
    }
   ],
   "source": [
    "print(\"Final Similarity:\", total_sim/len(corpus))\n",
    "print (\"Similarity % = \", 100*total_sim/len(corpus))\n"
   ]
  },
  {
   "cell_type": "code",
   "execution_count": null,
   "id": "28a4ff15",
   "metadata": {},
   "outputs": [],
   "source": []
  }
 ],
 "metadata": {
  "kernelspec": {
   "display_name": "Python 3",
   "language": "python",
   "name": "python3"
  },
  "language_info": {
   "codemirror_mode": {
    "name": "ipython",
    "version": 3
   },
   "file_extension": ".py",
   "mimetype": "text/x-python",
   "name": "python",
   "nbconvert_exporter": "python",
   "pygments_lexer": "ipython3",
   "version": "3.7.10"
  }
 },
 "nbformat": 4,
 "nbformat_minor": 5
}
